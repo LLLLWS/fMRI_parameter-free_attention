{
 "cells": [
  {
   "cell_type": "code",
   "execution_count": 1,
   "metadata": {},
   "outputs": [],
   "source": [
    "import numpy as np\n",
    "import nibabel as nbl"
   ]
  },
  {
   "cell_type": "code",
   "execution_count": 2,
   "metadata": {},
   "outputs": [],
   "source": [
    "HCPDataListPath = './s2_con1_label.txt'\n",
    "HCPDataRootPath = '../../data/disk/'\n",
    "labelNumber = {'EMOTION': 0, 'GAMBLING': 1, 'LANGUAGE': 2, 'MOTOR': 3,\n",
    "               'RELATIONAL': 4, 'SOCIAL': 5, 'WM': 6}"
   ]
  },
  {
   "cell_type": "code",
   "execution_count": 3,
   "metadata": {},
   "outputs": [],
   "source": [
    "def getLabelList(HCPDataPathList):\n",
    "    labelList = []\n",
    "    for HCPDataPath in HCPDataPathList:\n",
    "        labelList.append(labelNumber[HCPDataPath.split('/')[5].split('_')[1]])\n",
    "    return labelList"
   ]
  },
  {
   "cell_type": "code",
   "execution_count": 4,
   "metadata": {},
   "outputs": [],
   "source": [
    "def getDataList(HCPDataListPath):\n",
    "    HCPDataPathList = []\n",
    "    with open(HCPDataListPath, 'r') as fr:\n",
    "        for HCPDataPath in fr.readlines():\n",
    "            HCPDataPathList.append(HCPDataPath.strip())\n",
    "    return HCPDataPathList"
   ]
  },
  {
   "cell_type": "code",
   "execution_count": 5,
   "metadata": {},
   "outputs": [],
   "source": [
    "def getData(dataPath):\n",
    "    return nbl.load(dataPath).get_fdata()"
   ]
  },
  {
   "cell_type": "code",
   "execution_count": 6,
   "metadata": {},
   "outputs": [],
   "source": [
    "def getNextX(HCPDataRootPath, HCPDataPathList, index):\n",
    "    targetDataPathList = HCPDataPathList[index]\n",
    "    nextX = []\n",
    "    for targetDataPath in targetDataPathList:\n",
    "        nextX.append(getData(HCPDataRootPath + targetDataPath))\n",
    "    return np.array(nextX)"
   ]
  },
  {
   "cell_type": "code",
   "execution_count": 7,
   "metadata": {},
   "outputs": [],
   "source": [
    "def getNextY(HCPLabelList, index):\n",
    "    return HCPLabelList[index]"
   ]
  },
  {
   "cell_type": "code",
   "execution_count": 8,
   "metadata": {},
   "outputs": [],
   "source": [
    "class HCPDataSet():\n",
    "    def __init__(self, HCPDataRootPath, HCPDataPathList, HCPLabelList):\n",
    "        self.HCPDataRootPath = HCPDataRootPath\n",
    "        if int(len(HCPDataPathList)) != int(len(HCPLabelList)):\n",
    "            print(\"Error: dataPathList {}, labelList {}\"\n",
    "                  .format(len(HCPDataPathList), len(HCPLabelList)))\n",
    "        self.HCPDataPathList = np.array(HCPDataPathList)\n",
    "        self.HCPLabelList = np.array(HCPLabelList)\n",
    "        self.total = len(HCPDataPathList)\n",
    "\n",
    "    def nextBatch(self, batchSize):\n",
    "        index = np.random.randint(0, self.total, batchSize)\n",
    "        nextX = getNextX(self.HCPDataRootPath, self.HCPDataPathList, index)\n",
    "        nextY = getNextY(self.HCPLabelList, index)\n",
    "        return nextX, nextY"
   ]
  },
  {
   "cell_type": "code",
   "execution_count": 9,
   "metadata": {},
   "outputs": [],
   "source": [
    "class EntireDataSet():\n",
    "    def __init__(self, trainDataSet, evalDataSet):\n",
    "        self.trainDataSet = trainDataSet\n",
    "        self.evalDataSet = evalDataSet"
   ]
  },
  {
   "cell_type": "code",
   "execution_count": 10,
   "metadata": {},
   "outputs": [],
   "source": [
    "def getHCPDataSet(HCPDataRootPath, HCPDataListPath, rate=0.7):\n",
    "    '''\n",
    "    This function will return a object of the class HCPDataSet.\n",
    "    Parameters:\n",
    "        HCPDataRootPath: (string) The root path of HCP data,\n",
    "                         for example '../../data/disk/'.\n",
    "        HCPDataListPath: (string) The txt file of the pathes,\n",
    "                         for example './label.txt'.\n",
    "        rate: (double) The rate of training dataset in entire dateset.\n",
    "    Result:\n",
    "        HCPDataSet: A object of HCPDataSet.\n",
    "    '''\n",
    "    dataPathList = getDataList(HCPDataListPath)\n",
    "    totalNumber = len(dataPathList)\n",
    "    totalTraining = int(totalNumber * rate)\n",
    "    trainDataPathList = dataPathList[:totalTraining]\n",
    "    trainLabelList = getLabelList(trainDataPathList)\n",
    "    evalDataPathList = dataPathList[totalTraining:]\n",
    "    evalLabelList = getLabelList(evalDataPathList)\n",
    "\n",
    "    trainDataSet = HCPDataSet(HCPDataRootPath, trainDataPathList, trainLabelList)\n",
    "    evalDataSet = HCPDataSet(HCPDataRootPath, evalDataPathList, evalLabelList)\n",
    "    dataSet = EntireDataSet(trainDataSet, evalDataSet)\n",
    "    return dataSet"
   ]
  },
  {
   "cell_type": "code",
   "execution_count": null,
   "metadata": {},
   "outputs": [],
   "source": []
  }
 ],
 "metadata": {
  "kernelspec": {
   "display_name": "Python 3",
   "language": "python",
   "name": "python3"
  },
  "language_info": {
   "codemirror_mode": {
    "name": "ipython",
    "version": 3
   },
   "file_extension": ".py",
   "mimetype": "text/x-python",
   "name": "python",
   "nbconvert_exporter": "python",
   "pygments_lexer": "ipython3",
   "version": "3.7.6"
  },
  "widgets": {
   "application/vnd.jupyter.widget-state+json": {
    "state": {},
    "version_major": 2,
    "version_minor": 0
   }
  }
 },
 "nbformat": 4,
 "nbformat_minor": 4
}
