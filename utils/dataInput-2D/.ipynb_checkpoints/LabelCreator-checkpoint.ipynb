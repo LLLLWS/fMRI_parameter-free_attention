{
 "cells": [
  {
   "cell_type": "code",
   "execution_count": 2,
   "metadata": {},
   "outputs": [],
   "source": [
    "import os"
   ]
  },
  {
   "cell_type": "code",
   "execution_count": 3,
   "metadata": {},
   "outputs": [],
   "source": [
    "dataRootPath = '../../data/'"
   ]
  },
  {
   "cell_type": "code",
   "execution_count": null,
   "metadata": {},
   "outputs": [],
   "source": [
    "cnt = 0\n",
    "with open(\"./s2_con1_label.txt\", \"w\") as fw:\n",
    "    for root, dirs, files in os.walk(dataRootPath):\n",
    "        if \"_hp200_s2_level2.feat\" in root and \"cope1.feat\" in root:\n",
    "            for file in files:\n",
    "                if \"cope1.dtseries.nii\" in file and \"var\" not in file:\n",
    "                    fw.writelines(root[10:] + '/' + file + '\\n')\n",
    "                    cnt += 1\n",
    "                    if cnt % 1000 == 0:\n",
    "                        print(cnt)\n",
    "print(\"finish! \" + str(cnt))"
   ]
  },
  {
   "cell_type": "code",
   "execution_count": null,
   "metadata": {},
   "outputs": [],
   "source": [
    "# contrast = {\"EMOTION\":2, \"GAMBLING\":2, \"LANGUAGE\":2, \"MOTOR\":6,\n",
    "#             \"RELATIONAL\":2, \"SOCIAL\":2, \"WM\":8}\n",
    "# cnt = 0\n",
    "# with open(\"./label.txt\", \"r\") as fr:\n",
    "#     with open(\"./s2_24tasks_label.txt\", \"w\") as fw:\n",
    "#         for filePath in fr.readlines():\n",
    "#             if \"hp200_s2_level2.feat\" in filePath:\n",
    "#                 filePathSeg = filePath.strip().split('/')\n",
    "#                 label = filePathSeg[5].split('_')[1]\n",
    "#                 con = int(float(filePathSeg[8][4:6]))\n",
    "#                 if (con <= contrast[label]):\n",
    "#                     fw.write(filePath)\n",
    "#                     cnt += 1\n",
    "#                     if cnt % 200 == 0:\n",
    "#                         print(cnt)\n",
    "# print(\"finish! \" + str(cnt))"
   ]
  },
  {
   "cell_type": "code",
   "execution_count": null,
   "metadata": {},
   "outputs": [],
   "source": [
    "# cnt = 0\n",
    "# with open(\"./label.txt\", \"w\") as fw:\n",
    "#     for root, dirs, files in os.walk(dataRootPath):\n",
    "#         for file in files:\n",
    "#             if \"cope1.dtseries.nii\" in file and \"var\" not in file:\n",
    "#                 fw.writelines(root[15:] + '/' + file + '\\n')\n",
    "#                 cnt += 1\n",
    "#                 if cnt % 1000 == 0:\n",
    "#                     print(cnt)\n",
    "# print(\"finish! \" + str(cnt))"
   ]
  },
  {
   "cell_type": "code",
   "execution_count": null,
   "metadata": {},
   "outputs": [],
   "source": []
  },
  {
   "cell_type": "code",
   "execution_count": null,
   "metadata": {},
   "outputs": [],
   "source": []
  }
 ],
 "metadata": {
  "kernelspec": {
   "display_name": "Python 3",
   "language": "python",
   "name": "python3"
  },
  "language_info": {
   "codemirror_mode": {
    "name": "ipython",
    "version": 3
   },
   "file_extension": ".py",
   "mimetype": "text/x-python",
   "name": "python",
   "nbconvert_exporter": "python",
   "pygments_lexer": "ipython3",
   "version": "3.7.6"
  },
  "widgets": {
   "application/vnd.jupyter.widget-state+json": {
    "state": {},
    "version_major": 2,
    "version_minor": 0
   }
  }
 },
 "nbformat": 4,
 "nbformat_minor": 4
}
