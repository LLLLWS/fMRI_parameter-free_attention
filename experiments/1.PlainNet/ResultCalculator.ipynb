{
 "cells": [
  {
   "cell_type": "code",
   "execution_count": null,
   "metadata": {},
   "outputs": [],
   "source": [
    "import numpy as np\n",
    "from copy import deepcopy\n",
    "import os\n",
    "import datetime"
   ]
  },
  {
   "cell_type": "code",
   "execution_count": 1,
   "metadata": {},
   "outputs": [],
   "source": [
    "def resultCalculator(predictArray, labelArry, tasks=7, prefix=None, outputPath=None):\n",
    "    resultArray = predictArray.argmax(1)\n",
    "    averACC = (resultArray == labelArry).sum().item()/labelArry.shape[0] * 100\n",
    "    \n",
    "    result = np.zeros((tasks, tasks))\n",
    "    for i, j in zip(labelArry, resultArray):\n",
    "        result[i][j] += 1\n",
    "        \n",
    "    if outputPath != None:\n",
    "        theTime = datetime.datetime.now().strftime('%Y-%m-%d-%H_%M_%S')\n",
    "        resultSum = result.sum(1)\n",
    "        if not os.path.exists(outputPath):\n",
    "            fw = open(outputPath, 'w')\n",
    "            fw.close()\n",
    "        with open(outputPath, 'a') as fa:\n",
    "            fa.write('({}) {}:\\n\\n'.format(prefix, theTime))\n",
    "            \n",
    "            fa.write('|Aver Acc|')\n",
    "            for i in range(tasks):\n",
    "                fa.write('{} ACC|'.format(i))\n",
    "            fa.write('\\n')\n",
    "            for i in range(tasks):\n",
    "                fa.write('|:---:')\n",
    "            fa.write('|:--:|\\n')\n",
    "            \n",
    "            fa.write('|{:.2f}%|'.format(averACC))\n",
    "            for i in range(tasks):\n",
    "                fa.write('{:.2f}|%'.format(result[i][i]/resultSum[i] * 100))\n",
    "            fa.write('\\n\\n')\n",
    "            \n",
    "            for i in range(tasks):\n",
    "                fa.write('|{}'.format(i))\n",
    "            fa.write('|\\n')\n",
    "            for i in range(tasks + 1):\n",
    "                fa.write('|:---:')\n",
    "            fa.write('|\\n')\n",
    "            for i in range(tasks):\n",
    "                fa.write('|{}'.format(i))\n",
    "                for j in range(tasks):\n",
    "                    fa.write('|{}'.format(int(result[i][j])))\n",
    "                fa.write('|\\n')      \n",
    "    return averACC, result"
   ]
  },
  {
   "cell_type": "code",
   "execution_count": null,
   "metadata": {},
   "outputs": [],
   "source": []
  },
  {
   "cell_type": "code",
   "execution_count": null,
   "metadata": {},
   "outputs": [],
   "source": []
  },
  {
   "cell_type": "code",
   "execution_count": null,
   "metadata": {},
   "outputs": [],
   "source": []
  },
  {
   "cell_type": "code",
   "execution_count": null,
   "metadata": {},
   "outputs": [],
   "source": []
  }
 ],
 "metadata": {
  "kernelspec": {
   "display_name": "pytorch",
   "language": "python",
   "name": "pytorch"
  },
  "language_info": {
   "codemirror_mode": {
    "name": "ipython",
    "version": 3
   },
   "file_extension": ".py",
   "mimetype": "text/x-python",
   "name": "python",
   "nbconvert_exporter": "python",
   "pygments_lexer": "ipython3",
   "version": "3.6.2"
  },
  "widgets": {
   "application/vnd.jupyter.widget-state+json": {
    "state": {},
    "version_major": 2,
    "version_minor": 0
   }
  }
 },
 "nbformat": 4,
 "nbformat_minor": 4
}
