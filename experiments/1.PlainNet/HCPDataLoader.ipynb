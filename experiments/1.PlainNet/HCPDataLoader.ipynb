{
 "cells": [
  {
   "cell_type": "code",
   "execution_count": 1,
   "metadata": {},
   "outputs": [],
   "source": [
    "from torch.utils.data import Dataset, DataLoader\n",
    "import torch\n",
    "import numpy as np\n",
    "import nibabel as nbl"
   ]
  },
  {
   "cell_type": "code",
   "execution_count": 2,
   "metadata": {},
   "outputs": [],
   "source": [
    "HCPDataListPath = './s2_con1_label.txt'\n",
    "HCPDataRootPath = '../../data/disk/'\n",
    "labelNumber = {'EMOTION': 0, 'GAMBLING': 1, 'LANGUAGE': 2, 'MOTOR': 3,\n",
    "               'RELATIONAL': 4, 'SOCIAL': 5, 'WM': 6}"
   ]
  },
  {
   "cell_type": "code",
   "execution_count": 3,
   "metadata": {},
   "outputs": [],
   "source": [
    "def getLabelList(HCPDataPathList):\n",
    "    labelList = []\n",
    "    for HCPDataPath in HCPDataPathList:\n",
    "        labelList.append(labelNumber[HCPDataPath.split('/')[5].split('_')[1]])\n",
    "    return np.array(labelList)"
   ]
  },
  {
   "cell_type": "code",
   "execution_count": 4,
   "metadata": {},
   "outputs": [],
   "source": [
    "def getDataList(HCPDataListPath):\n",
    "    HCPDataPathList = []\n",
    "    with open(HCPDataListPath, 'r') as fr:\n",
    "        for HCPDataPath in fr.readlines():\n",
    "            HCPDataPathList.append(HCPDataPath.strip())\n",
    "    return HCPDataPathList"
   ]
  },
  {
   "cell_type": "code",
   "execution_count": 5,
   "metadata": {},
   "outputs": [],
   "source": [
    "def getData(HCPDataRootPath, dataPath):\n",
    "    dtseries = nbl.load(HCPDataRootPath + dataPath)\n",
    "    time_series = dtseries.get_fdata().reshape((-1))\n",
    "    shape = dtseries.header.matrix.get_index_map(1).volume.volume_dimensions\n",
    "    nifti = np.zeros(shape)\n",
    "    for bm in dtseries.header.matrix.get_index_map(1).brain_models:\n",
    "        if bm.model_type == 'CIFTI_MODEL_TYPE_SURFACE':\n",
    "            continue\n",
    "        voxels = bm.voxel_indices_ijk\n",
    "        off, cnt = bm.index_offset, bm.index_count\n",
    "        nifti[tuple(np.transpose(voxels))] = time_series[off:off + cnt]\n",
    "    return np.array(nifti).reshape((1, 91, 109, 91)).astype(np.float32)"
   ]
  },
  {
   "cell_type": "code",
   "execution_count": 6,
   "metadata": {},
   "outputs": [],
   "source": [
    "class EntireDataSet():\n",
    "    def __init__(self, trainDataSet, evalDataSet, testDataSet):\n",
    "        self.trainDataSet = trainDataSet\n",
    "        self.evalDataSet = evalDataSet\n",
    "        self.testDataSet = testDataSet"
   ]
  },
  {
   "cell_type": "code",
   "execution_count": 7,
   "metadata": {},
   "outputs": [],
   "source": [
    "class HCPDataSet(Dataset):\n",
    "    def __init__(self, HCPDataRootPath, HCPDataPathList, HCPLabelList):\n",
    "        self.HCPDataRootPath = HCPDataRootPath\n",
    "        if int(len(HCPDataPathList)) != int(len(HCPLabelList)):\n",
    "            print(\"Error: dataPathList {}, labelList {}\"\n",
    "                  .format(len(HCPDataPathList), len(HCPLabelList)))\n",
    "        self.HCPDataPathList = np.array(HCPDataPathList)\n",
    "        self.HCPLabelList = np.array(HCPLabelList)\n",
    "        self.total = len(HCPDataPathList)\n",
    "\n",
    "    def __getitem__(self, index):\n",
    "        dataPath = self.HCPDataPathList[index]\n",
    "        data = getData(self.HCPDataRootPath, dataPath)\n",
    "        label = np.array(self.HCPLabelList[index])\n",
    "        return torch.from_numpy(data), torch.from_numpy(label)\n",
    "\n",
    "    def __len__(self):\n",
    "        return self.total"
   ]
  },
  {
   "cell_type": "code",
   "execution_count": 8,
   "metadata": {},
   "outputs": [],
   "source": [
    "def getHCPDataSet(HCPDataRootPath, HCPDataListPath, evalRate=0.2, testRate=0.2, tiny_data=0):\n",
    "    '''\n",
    "    This function will return a object of the class HCPDataSet.\n",
    "    Parameters:\n",
    "        HCPDataRootPath: (string) The root path of HCP data,\n",
    "                         for example '../../data/disk/'.\n",
    "        HCPDataListPath: (string) The txt file of the pathes,\n",
    "                         for example './label.txt'.\n",
    "        rate: (double) The rate of training dataset in entire dateset.\n",
    "        tiny_data: (int) Use data[:tiny_data] if tiny_data != 0.\n",
    "    Result:\n",
    "        HCPDataSet: A object of HCPDataSet.\n",
    "    '''\n",
    "    dataPathList = getDataList(HCPDataListPath)\n",
    "    if tiny_data != 0: \n",
    "        dataPathList = dataPathList[:int(tiny_data)]\n",
    "        \n",
    "    totalNumber = len(dataPathList)\n",
    "    totalTraining = int(totalNumber * (1 - evalRate - testRate))\n",
    "    totalEvaluation = int(totalNumber * evalRate)\n",
    "    print('Training: {}, Evaluation: {}, Test: {}'\n",
    "          .format(totalTraining, totalEvaluation, totalNumber - totalTraining - totalEvaluation))\n",
    "    \n",
    "    trainDataPathList = dataPathList[:totalTraining]\n",
    "    trainLabelList = getLabelList(trainDataPathList)\n",
    "    \n",
    "    evalDataPathList = dataPathList[totalTraining:totalTraining + totalEvaluation]\n",
    "    evalLabelList = getLabelList(evalDataPathList)\n",
    "    \n",
    "    testDataPathList = dataPathList[totalTraining + totalEvaluation:]\n",
    "    testLabelList = getLabelList(testDataPathList)\n",
    "\n",
    "    trainDataSet = HCPDataSet(HCPDataRootPath, trainDataPathList, trainLabelList)\n",
    "    evalDataSet = HCPDataSet(HCPDataRootPath, evalDataPathList, evalLabelList)\n",
    "    testDataSet = HCPDataSet(HCPDataRootPath, testDataPathList, testLabelList)\n",
    "    \n",
    "    dataSet = EntireDataSet(trainDataSet, evalDataSet, testDataSet)\n",
    "    return dataSet"
   ]
  },
  {
   "cell_type": "code",
   "execution_count": null,
   "metadata": {},
   "outputs": [],
   "source": []
  }
 ],
 "metadata": {
  "kernelspec": {
   "display_name": "Python 3",
   "language": "python",
   "name": "python3"
  },
  "language_info": {
   "codemirror_mode": {
    "name": "ipython",
    "version": 3
   },
   "file_extension": ".py",
   "mimetype": "text/x-python",
   "name": "python",
   "nbconvert_exporter": "python",
   "pygments_lexer": "ipython3",
   "version": "3.8.3"
  },
  "widgets": {
   "application/vnd.jupyter.widget-state+json": {
    "state": {},
    "version_major": 2,
    "version_minor": 0
   }
  }
 },
 "nbformat": 4,
 "nbformat_minor": 4
}
