{
 "cells": [
  {
   "cell_type": "code",
   "execution_count": 3,
   "metadata": {},
   "outputs": [],
   "source": [
    "import torch.nn as nn\n",
    "import torch.nn.functional as F"
   ]
  },
  {
   "cell_type": "code",
   "execution_count": null,
   "metadata": {},
   "outputs": [],
   "source": [
    "class BasicBlock(nn.Module):\n",
    "    def __init__(self, inChannels, outChannels):\n",
    "        super(BasicBlock, self).__init__()\n",
    "        self.layer1 = nn.Sequential(\n",
    "            nn.Conv3d(inChannels, outChannels, kernel_size=3, padding=1),\n",
    "            nn.BatchNorm3d(outChannels),\n",
    "            nn.ReLU(inplace=True)\n",
    "        )\n",
    "        self.layer2 = nn.Sequential(\n",
    "            nn.Conv3d(outChannels, outChannels, kernel_size=3, padding=1),\n",
    "            nn.BatchNorm3d(outChannels),\n",
    "            nn.ReLU(inplace=True)\n",
    "        )\n",
    "        self.layer3 = nn.Sequential(\n",
    "            nn.Conv3d(outChannels, outChannels, kernel_size=3, padding=1),\n",
    "            nn.BatchNorm3d(outChannels),\n",
    "        )\n",
    "        self.resLayer = nn.Sequential(\n",
    "            nn.Conv3d(inChannels, outChannels, kernel_size=1),\n",
    "            nn.BatchNorm3d(outChannels),\n",
    "        )\n",
    "        self.relu = nn.ReLU(inplace=True)\n",
    "\n",
    "    def forward(self, x):\n",
    "        resOut = self.resLayer(x)\n",
    "        \n",
    "        x = self.layer1(x)\n",
    "        x = self.layer2(x)\n",
    "        x = self.layer3(x)\n",
    "        x = x + resOut\n",
    "        return x"
   ]
  },
  {
   "cell_type": "code",
   "execution_count": null,
   "metadata": {},
   "outputs": [],
   "source": [
    "class AttentionBlock(nn.Module):\n",
    "    def __init__(self):\n",
    "        super(AttentionBlock, self).__init__()\n",
    "        self.downsample = nn.MaxPool3d(kernel_size=2, stride=2)\n",
    "        self.sigmoid = nn.Sigmoid()\n",
    "    \n",
    "    def forward(self, x):\n",
    "        o = x\n",
    "        print(x.shape)\n",
    "        x = self.downsample(x)\n",
    "        print(x.shape)\n",
    "        x = self.downsample(x)\n",
    "        print(x.shape)\n",
    "        x = F.interpolate(x, scale_factor=2, mode='trilinear')\n",
    "        print(x.shape)\n",
    "        x = F.interpolate(x, size=o.shape[2:], mode='trilinear')\n",
    "        print(x.shape)\n",
    "        x = self.sigmoid(x)\n",
    "        return x"
   ]
  },
  {
   "cell_type": "code",
   "execution_count": 2,
   "metadata": {},
   "outputs": [],
   "source": [
    "class Network(nn.Module):\n",
    "    def __init__(self):\n",
    "        super(Network, self).__init__()\n",
    "        self.block1 = BasicBlock(1, 8)\n",
    "        self.block2 = BasicBlock(8, 16)\n",
    "        self.block3 = BasicBlock(16, 32)\n",
    "        self.block4 = BasicBlock(32, 48)\n",
    "        self.maxpool = nn.MaxPool3d(kernel_size=2, stride=2, padding=1)\n",
    "        self.dropLayer = nn.Dropout(p=0.5)\n",
    "        self.fc = nn.Sequential(\n",
    "            nn.Linear(48 * 7 * 8 * 7, 1024),\n",
    "            nn.ReLU(inplace=True),\n",
    "            nn.Linear(1024, 128),\n",
    "            nn.ReLU(inplace=True),\n",
    "            nn.Linear(128, 7)\n",
    "        )\n",
    "        self.relu = nn.ReLU(inplace=True)\n",
    "        self.attention = AttentionBlock()\n",
    "    def forward(self, x):\n",
    "        x = self.block1(x)\n",
    "        x = self.maxpool(x)\n",
    "        x = self.block2(x)\n",
    "        x_a = self.attention(x)\n",
    "        x = self.relu(x.mul(x_a) + x)\n",
    "        x = self.maxpool(x)\n",
    "        x = self.block3(x)\n",
    "        x_a = self.attention(x)\n",
    "        x = self.relu(x.mul(x_a) + x)\n",
    "        x = self.maxpool(x)\n",
    "        x = self.block4(x)\n",
    "        x_a = self.attention(x)\n",
    "        x = self.relu(x.mul(x_a) + x)\n",
    "        x = self.maxpool(x)\n",
    "        x = self.dropLayer(x)\n",
    "        x = x.view(x.size(0), -1)\n",
    "        x = self.fc(x)\n",
    "        return x"
   ]
  },
  {
   "cell_type": "code",
   "execution_count": null,
   "metadata": {},
   "outputs": [],
   "source": []
  }
 ],
 "metadata": {
  "kernelspec": {
   "display_name": "pytorch",
   "language": "python",
   "name": "pytorch"
  },
  "language_info": {
   "codemirror_mode": {
    "name": "ipython",
    "version": 3
   },
   "file_extension": ".py",
   "mimetype": "text/x-python",
   "name": "python",
   "nbconvert_exporter": "python",
   "pygments_lexer": "ipython3",
   "version": "3.6.2"
  },
  "widgets": {
   "application/vnd.jupyter.widget-state+json": {
    "state": {},
    "version_major": 2,
    "version_minor": 0
   }
  }
 },
 "nbformat": 4,
 "nbformat_minor": 4
}
