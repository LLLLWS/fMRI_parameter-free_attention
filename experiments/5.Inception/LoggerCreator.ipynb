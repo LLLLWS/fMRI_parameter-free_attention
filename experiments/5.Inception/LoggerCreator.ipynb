{
 "cells": [
  {
   "cell_type": "code",
   "execution_count": 1,
   "metadata": {},
   "outputs": [],
   "source": [
    "import os\n",
    "import logging\n",
    "import datetime"
   ]
  },
  {
   "cell_type": "code",
   "execution_count": null,
   "metadata": {},
   "outputs": [],
   "source": [
    "def loggerCreator():\n",
    "    theTime = datetime.datetime.now().strftime('%Y-%m-%d-%H_%M_%S')\n",
    "    os.makedirs(theTime)\n",
    "    \n",
    "    logger = logging.getLogger('script')\n",
    "    formatter = logging.Formatter('%(asctime)s[line:%(lineno)d] - %(levelname)s: %(message)s')\n",
    "    logger.setLevel(level=logging.DEBUG)\n",
    "    logger.propagate = False\n",
    "\n",
    "    file_handler = logging.FileHandler('./{}/INFO.log'.format(theTime))\n",
    "    file_handler.setLevel(level=logging.INFO)\n",
    "    file_handler.setFormatter(formatter)\n",
    "\n",
    "    warning_handler = logging.FileHandler('./{}/WARNING.log'.format(theTime))\n",
    "    warning_handler.setLevel(level=logging.WARNING)\n",
    "    warning_handler.setFormatter(formatter)\n",
    "\n",
    "    stream_handler = logging.StreamHandler()\n",
    "    stream_handler.setLevel(logging.INFO)\n",
    "    stream_handler.setFormatter(formatter)\n",
    "    logger.addHandler(file_handler)\n",
    "    \n",
    "    logger.addHandler(warning_handler)\n",
    "    logger.addHandler(stream_handler)\n",
    "    \n",
    "    return logger"
   ]
  }
 ],
 "metadata": {
  "kernelspec": {
   "display_name": "Python 3",
   "language": "python",
   "name": "python3"
  },
  "language_info": {
   "codemirror_mode": {
    "name": "ipython",
    "version": 3
   },
   "file_extension": ".py",
   "mimetype": "text/x-python",
   "name": "python",
   "nbconvert_exporter": "python",
   "pygments_lexer": "ipython3",
   "version": "3.7.6"
  },
  "widgets": {
   "application/vnd.jupyter.widget-state+json": {
    "state": {},
    "version_major": 2,
    "version_minor": 0
   }
  }
 },
 "nbformat": 4,
 "nbformat_minor": 4
}
